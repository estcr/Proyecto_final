{
 "cells": [
  {
   "cell_type": "code",
   "execution_count": 2,
   "metadata": {},
   "outputs": [],
   "source": [
    "import os\n",
    "import toml\n",
    "from openai import OpenAI\n",
    "api_key = os.getenv(\"apigpt_key\")"
   ]
  },
  {
   "cell_type": "code",
   "execution_count": 3,
   "metadata": {},
   "outputs": [],
   "source": [
    "\n",
    "client = OpenAI(api_key=api_key)\n",
    "\n",
    "\n",
    "config = toml.load(\"claves.toml\")\n",
    "apigpt_key = config[\"api_keys\"][\"apigpt_key\"]\n",
    "apipinecone = config[\"api_keys\"][\"apipinecone\"]\n"
   ]
  },
  {
   "cell_type": "code",
   "execution_count": 10,
   "metadata": {},
   "outputs": [
    {
     "name": "stdout",
     "output_type": "stream",
     "text": [
      "\n",
      "### Recomendaciones Generadas ###\n",
      "¡Lanzarote es un destino fantástico para disfrutar tanto de sus paisajes únicos como de su vida nocturna! Aquí tienes algunas recomendaciones para disfrutar de la fiesta en la isla:\n",
      "\n",
      "1. **Puerto del Carmen**: Este es el lugar más popular para la vida nocturna en Lanzarote. La Avenida de las Playas es el epicentro de la fiesta, llena de bares, discotecas y pubs. Algunos lugares recomendados son \"Ruta 66\" para música en vivo, \"Centro Atlántico\" para una experiencia de clubbing y \"The Big Easy\" para un ambiente más relajado.\n",
      "\n",
      "2. **Arrecife**: La capital de la isla ofrece una vida nocturna vibrante. Visita \"La Marina\" y \"Charco de San Ginés\" para encontrar una variedad de bares y restaurantes con música en vivo y un ambiente animado.\n",
      "\n",
      "3. **Playa Blanca**: Aunque es más tranquila que Puerto del Carmen, también ofrece buenos lugares para salir, como el \"Papagayo Beach Club\", que se encuentra justo en el paseo marítimo.\n",
      "\n",
      "4. **Teguise**: Si tu visita coincide con el domingo, no te pierdas el mercado de Teguise, donde encontrarás eventos y fiestas durante las noches del fin de semana en algunos bares locales. Además, los jueves por la noche, \"La Casona de Yaiza\" ofrece música en vivo y un ambiente auténtico.\n",
      "\n",
      "5. **Festivales y eventos**: Lanzarote acoge diversos festivales a lo largo del año. Si coincides con alguno, como el Carnaval en febrero o la Noche Blanca en Teguise, podrás experimentar la fiesta al estilo local.\n",
      "\n",
      "Al explorar la vida nocturna, recuerda que el transporte puede ser limitado en las primeras horas de la mañana, así que planifica tu regreso con anticipación si decides no alquilar un coche.\n",
      "\n",
      "Finalmente, no dudes en preguntar a los locales por recomendaciones. La gente en Lanzarote es muy amigable y estará encantada de señalar las mejores fiestas de la isla. ¡Disfruta de tu viaje!\n"
     ]
    }
   ],
   "source": [
    "\n",
    "def generar_recomendaciones(destino, tipo_viaje, actividades):\n",
    "    try:\n",
    "        # Crear el mensaje de entrada para la API\n",
    "        prompt = f\"Quiero recomendaciones de viaje para {destino}. Es un viaje de tipo {tipo_viaje} y me interesan las siguientes actividades: {', '.join(actividades)}.\"\n",
    "\n",
    "        # Llamar a la API de OpenAI utilizando la nueva interfaz de completions.create\n",
    "        response = client.chat.completions.create(\n",
    "        model=\"gpt-4o\",\n",
    "        messages=[\n",
    "            {\n",
    "            \"role\": \"system\",\n",
    "            \"content\": [\n",
    "                {\n",
    "                \"type\": \"text\",\n",
    "                \"text\": \"Eres un asistente experto en recomendaciones de viajes.\"\n",
    "                }\n",
    "            ]\n",
    "            },\n",
    "            {\n",
    "            \"role\": \"user\",\n",
    "            \"content\": [\n",
    "                {\n",
    "                \"type\": \"text\",\n",
    "                \"text\": prompt\n",
    "                }\n",
    "            ]\n",
    "            }\n",
    "        ],\n",
    "        response_format={\n",
    "            \"type\": \"text\"\n",
    "        },\n",
    "        temperature=1,\n",
    "        max_completion_tokens=2048,\n",
    "        top_p=1,\n",
    "        frequency_penalty=0,\n",
    "        presence_penalty=0\n",
    "        )\n",
    "\n",
    "        # Obtener la respuesta del modelo\n",
    "        recomendaciones = response.choices[0].message.content\n",
    "        return recomendaciones\n",
    "\n",
    "    except Exception as e:\n",
    "        return f\"Error al generar recomendaciones: {str(e)}\"\n",
    "\n",
    "\n",
    "# Entrada del usuario\n",
    "destino = input(\"Ingresa el destino del viaje: \")  # Ejemplo: Roma\n",
    "tipo_viaje = input(\"Ingresa el tipo de viaje (Solo, Pareja, Amigos, etc.): \")  # Ejemplo: Pareja\n",
    "actividades = input(\"Ingresa las actividades separadas por comas (Cultura, Aventura, Relax, etc.): \").split(\", \")  # Ejemplo: Cultura, Gastronomía\n",
    "\n",
    "# Llamar a la función y mostrar las recomendaciones\n",
    "recomendaciones = generar_recomendaciones(destino, tipo_viaje, actividades)\n",
    "\n",
    "# Mostrar las recomendaciones al usuario\n",
    "print(\"\\n### Recomendaciones Generadas ###\")\n",
    "print(recomendaciones)\n"
   ]
  }
 ],
 "metadata": {
  "kernelspec": {
   "display_name": "proyecto_final",
   "language": "python",
   "name": "python3"
  },
  "language_info": {
   "codemirror_mode": {
    "name": "ipython",
    "version": 3
   },
   "file_extension": ".py",
   "mimetype": "text/x-python",
   "name": "python",
   "nbconvert_exporter": "python",
   "pygments_lexer": "ipython3",
   "version": "3.12.8"
  }
 },
 "nbformat": 4,
 "nbformat_minor": 2
}
